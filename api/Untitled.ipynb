{
 "cells": [
  {
   "cell_type": "code",
   "execution_count": 18,
   "metadata": {},
   "outputs": [],
   "source": [
    "from selenium import webdriver\n",
    "from selenium.webdriver.support.ui import Select\n",
    "from selenium.webdriver.common.by import By\n",
    "import selenium.webdriver.common.by\n",
    "import urllib3\n",
    "import certifi\n",
    "import time\n",
    "from bs4 import BeautifulSoup\n",
    "import urllib3\n",
    "import certifi\n",
    "import time\n",
    "\n",
    "def find_element(driver, by, text):\n",
    "    while True:\n",
    "        try:\n",
    "            return driver.find_element(by, text)\n",
    "        except Exception:\n",
    "            print(\"Waiting for page to load...\", end='\\r')\n",
    "\n",
    "\n",
    "def wait_for_internet_connection():\n",
    "    message = False\n",
    "    while True:\n",
    "        try:\n",
    "            urllib3.PoolManager(\n",
    "                cert_reqs='CERT_REQUIRED',\n",
    "                ca_certs=certifi.where()).request('GET', \"https://google.com\")\n",
    "# print('Good connection.')\n",
    "            return True\n",
    "        except Exception:\n",
    "            if not message:\n",
    "                print('No connection! Please connect to the internet to continue.')\n",
    "                message = True\n",
    "                time.sleep(1)\n",
    "\n"
   ]
  },
  {
   "cell_type": "code",
   "execution_count": 14,
   "metadata": {},
   "outputs": [],
   "source": [
    "driver = webdriver.Firefox()"
   ]
  },
  {
   "cell_type": "code",
   "execution_count": 16,
   "metadata": {},
   "outputs": [],
   "source": [
    "driver.get(\"https://www.expedia.com/\")\n",
    "find_element(driver, By.ID, \"tab-flight-tab-hp\").click()\n",
    "find_element(driver, By.ID, \"flight-returning-hp-flight\").send_keys(\"11/25/2018\")\n",
    "find_element(driver, By.ID, \"flight-departing-hp-flight\").send_keys(\"11/15/2018\")\n",
    "find_element(driver, By.ID, \"flight-origin-hp-flight\").send_keys(\"houston\")\n",
    "find_element(driver, By.ID, \"flight-destination-hp-flight\").send_keys(\"atlanta\")\n",
    "\n",
    "elem = find_element(driver, By.XPATH, \"/html/body/section[1]/div/div/div/section/div[1]/div[2]/div[2]/section[3]/form/section/div[4]/div[8]/div/div/ul/li/div/div/div[1]/div[2]/input\")\n",
    "driver.execute_script(\"arguments[0].setAttribute('value', arguments[1])\",\n",
    "                      elem, 4)\n",
    "\n",
    "time.sleep(1)\n",
    "find_element(driver, By.CLASS_NAME, \"btn-primary.btn-action.gcw-submit\").click()"
   ]
  },
  {
   "cell_type": "code",
   "execution_count": 93,
   "metadata": {},
   "outputs": [
    {
     "name": "stdout",
     "output_type": "stream",
     "text": [
      "258\n",
      "IAH\n",
      "ATL\n",
      "{'price': '258', 'departure': 'IAH', 'arrival': 'ATL'}\n"
     ]
    }
   ],
   "source": [
    "elemHTML = find_element(driver, By.CLASS_NAME, \"uitk-grid.all-grid-fallback-alt\").get_attribute(\"outerHTML\")\n",
    "\n",
    "soup = BeautifulSoup(elemHTML, features=\"html.parser\")\n",
    "\n",
    "uList = soup.find(\"ul\", id=\"flightModuleList\")\n",
    "\n",
    "listItem = uList.findChild().find_next_sibling(\"li\")\n",
    "\n",
    "price = listItem.find_all(\"span\")[11].get_text()\n",
    "\n",
    "price = price[1:]\n",
    "\n",
    "targetSpan = listItem.find_all(\"span\")[9]\n",
    "\n",
    "departLocation = targetSpan.find_parent(\"div\").get_text()\n",
    "\n",
    "departLocation = departLocation[19:].lstrip()\n",
    "\n",
    "departLocation = departLocation[:3]\n",
    "\n",
    "arrivalLocation = targetSpan.find_parent(\"div\").get_text()\n",
    "\n",
    "arrivalLocation = arrivalLocation.rstrip()\n",
    "\n",
    "arrivalLocation = arrivalLocation[206:]\n",
    "\n",
    "thisdict =\t{\n",
    "  \"price\": price,\n",
    "  \"departure\": departLocation,\n",
    "  \"arrival\": arrivalLocation\n",
    "}"
   ]
  },
  {
   "cell_type": "code",
   "execution_count": null,
   "metadata": {},
   "outputs": [],
   "source": []
  }
 ],
 "metadata": {
  "kernelspec": {
   "display_name": "Python 3",
   "language": "python",
   "name": "python3"
  },
  "language_info": {
   "codemirror_mode": {
    "name": "ipython",
    "version": 3
   },
   "file_extension": ".py",
   "mimetype": "text/x-python",
   "name": "python",
   "nbconvert_exporter": "python",
   "pygments_lexer": "ipython3",
   "version": "3.7.0"
  }
 },
 "nbformat": 4,
 "nbformat_minor": 2
}
